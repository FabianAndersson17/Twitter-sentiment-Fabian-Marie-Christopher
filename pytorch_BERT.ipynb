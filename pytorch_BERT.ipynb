{
 "cells": [
  {
   "cell_type": "code",
   "execution_count": 1,
   "metadata": {},
   "outputs": [],
   "source": [
    "from transformers import BertTokenizer, BertModel\n",
    "import torch.nn as nn\n",
    "import torch.nn.functional as F\n",
    "import pandas as pd"
   ]
  },
  {
   "cell_type": "code",
   "execution_count": 2,
   "metadata": {},
   "outputs": [],
   "source": [
    "tokenizer = BertTokenizer.from_pretrained('bert-base-uncased')"
   ]
  },
  {
   "cell_type": "code",
   "execution_count": 3,
   "metadata": {},
   "outputs": [],
   "source": [
    "class BertClassifier(nn.Module):\n",
    "    def __init__(self, dropout = .3):\n",
    "        super(BertClassifier, self).__init__()\n",
    "        self.bert = BertModel.from_pretrained('bert-base-uncased')\n",
    "        self.dropout = nn.Dropout(dropout)\n",
    "        self.linear = nn.Linear(768, 3)\n",
    "        self.softmax = nn.Softmax(dim = 1)\n",
    "        \n",
    "    def forward(self, input_ids, attention_mask):\n",
    "        pooled_output = self.bert(input_ids, attention_mask)[1]\n",
    "        dropout_output = self.dropout(pooled_output)\n",
    "        linear_output = self.linear(dropout_output)\n",
    "        return linear_output"
   ]
  },
  {
   "cell_type": "code",
   "execution_count": 4,
   "metadata": {},
   "outputs": [],
   "source": [
    "from torchsample.modules import ModuleTrainer\n",
    "from transformers import AdamW"
   ]
  },
  {
   "cell_type": "code",
   "execution_count": 5,
   "metadata": {},
   "outputs": [
    {
     "name": "stderr",
     "output_type": "stream",
     "text": [
      "Some weights of the model checkpoint at bert-base-uncased were not used when initializing BertModel: ['cls.predictions.bias', 'cls.predictions.decoder.weight', 'cls.predictions.transform.LayerNorm.bias', 'cls.seq_relationship.bias', 'cls.predictions.transform.LayerNorm.weight', 'cls.seq_relationship.weight', 'cls.predictions.transform.dense.weight', 'cls.predictions.transform.dense.bias']\n",
      "- This IS expected if you are initializing BertModel from the checkpoint of a model trained on another task or with another architecture (e.g. initializing a BertForSequenceClassification model from a BertForPreTraining model).\n",
      "- This IS NOT expected if you are initializing BertModel from the checkpoint of a model that you expect to be exactly identical (initializing a BertForSequenceClassification model from a BertForSequenceClassification model).\n",
      "c:\\Users\\chris\\.virtualenvs\\Twitter-sentiment-Fabian-Marie-Christopher-d6mUFvBK\\lib\\site-packages\\transformers\\optimization.py:306: FutureWarning: This implementation of AdamW is deprecated and will be removed in a future version. Use the PyTorch implementation torch.optim.AdamW instead, or set `no_deprecation_warning=True` to disable this warning\n",
      "  warnings.warn(\n"
     ]
    }
   ],
   "source": [
    "model = BertClassifier()\n",
    "trainer = ModuleTrainer(model)\n",
    "\n",
    "trainer.compile(loss = nn.CrossEntropyLoss(), \n",
    "                optimizer = AdamW(params = model.parameters(), \n",
    "                                  lr = 1e-5, \n",
    "                                  correct_bias = False))"
   ]
  },
  {
   "cell_type": "code",
   "execution_count": 6,
   "metadata": {},
   "outputs": [],
   "source": [
    "import numpy as np"
   ]
  },
  {
   "cell_type": "code",
   "execution_count": 7,
   "metadata": {},
   "outputs": [],
   "source": [
    "# Load CSV into DataFrame\n",
    "df_tweets = pd.read_csv(\"Data/Twitter_Data.csv\")\n",
    "\n",
    "# Rename columns\n",
    "df_tweets.columns = [\"text\", \"label\"]\n",
    "\n",
    "# Drop NaN\n",
    "df_tweets.dropna(inplace=True)\n",
    "\n",
    "# Create X and y\n",
    "X, y = df_tweets.text.values, df_tweets.label.values\n",
    "\n",
    "# -1 (Negative) is now 2\n",
    "y[y < 0] = 2\n",
    "y = np.longlong(y)\n",
    "\n",
    "# Small dataset for TESTING\n",
    "X_small, y_small = X[:3000], y[:3000]"
   ]
  },
  {
   "cell_type": "code",
   "execution_count": 8,
   "metadata": {},
   "outputs": [],
   "source": [
    "from sklearn.model_selection import train_test_split\n",
    "\n",
    "X_train, X_val, y_train, y_val = train_test_split(X_small, y_small, test_size=.3, random_state=42)"
   ]
  },
  {
   "cell_type": "code",
   "execution_count": 9,
   "metadata": {},
   "outputs": [
    {
     "data": {
      "text/plain": [
       "{'input_ids': tensor([[  101,  2043, 16913,  2072,  5763,  1523,  6263,  2231,  4555, 10615,\n",
       "          1524,  3517,  2032,  4088,  1996,  3697,  3105, 29455,  1996,  2110,\n",
       "          2339,  2515,  2202,  2086,  2131,  3425,  2110,  2323,  1998,  2025,\n",
       "          2449,   102]]), 'token_type_ids': tensor([[0, 0, 0, 0, 0, 0, 0, 0, 0, 0, 0, 0, 0, 0, 0, 0, 0, 0, 0, 0, 0, 0, 0, 0,\n",
       "         0, 0, 0, 0, 0, 0, 0, 0]]), 'attention_mask': tensor([[1, 1, 1, 1, 1, 1, 1, 1, 1, 1, 1, 1, 1, 1, 1, 1, 1, 1, 1, 1, 1, 1, 1, 1,\n",
       "         1, 1, 1, 1, 1, 1, 1, 1]])}"
      ]
     },
     "execution_count": 9,
     "metadata": {},
     "output_type": "execute_result"
    }
   ],
   "source": [
    "test = tokenizer(text = X_small[0],\n",
    "                       padding = 'max_length',\n",
    "                       max_length = 32,             # 512 is max for BERT\n",
    "                       truncation = True,\n",
    "                       return_tensors = \"pt\"        # output as torch.Tensor\n",
    "                       )\n",
    "test"
   ]
  },
  {
   "cell_type": "code",
   "execution_count": 13,
   "metadata": {},
   "outputs": [
    {
     "ename": "KeyError",
     "evalue": "'Indexing with integers (to access backend Encoding for a given batch index) is not available when using Python based tokenizers'",
     "output_type": "error",
     "traceback": [
      "\u001b[1;31m---------------------------------------------------------------------------\u001b[0m",
      "\u001b[1;31mKeyError\u001b[0m                                  Traceback (most recent call last)",
      "\u001b[1;32mc:\\Users\\chris\\Documents\\GitHub\\Twitter-sentiment-Fabian-Marie-Christopher\\pytorch_BERT.ipynb Cell 10'\u001b[0m in \u001b[0;36m<cell line: 1>\u001b[1;34m()\u001b[0m\n\u001b[1;32m----> <a href='vscode-notebook-cell:/c%3A/Users/chris/Documents/GitHub/Twitter-sentiment-Fabian-Marie-Christopher/pytorch_BERT.ipynb#ch0000009?line=0'>1</a>\u001b[0m trainer\u001b[39m.\u001b[39mfit(test[\u001b[39m0\u001b[39;49m], y_train,\n\u001b[0;32m      <a href='vscode-notebook-cell:/c%3A/Users/chris/Documents/GitHub/Twitter-sentiment-Fabian-Marie-Christopher/pytorch_BERT.ipynb#ch0000009?line=1'>2</a>\u001b[0m             num_epoch\u001b[39m=\u001b[39m\u001b[39m20\u001b[39m, \n\u001b[0;32m      <a href='vscode-notebook-cell:/c%3A/Users/chris/Documents/GitHub/Twitter-sentiment-Fabian-Marie-Christopher/pytorch_BERT.ipynb#ch0000009?line=2'>3</a>\u001b[0m             batch_size\u001b[39m=\u001b[39m\u001b[39m128\u001b[39m,\n\u001b[0;32m      <a href='vscode-notebook-cell:/c%3A/Users/chris/Documents/GitHub/Twitter-sentiment-Fabian-Marie-Christopher/pytorch_BERT.ipynb#ch0000009?line=3'>4</a>\u001b[0m             verbose\u001b[39m=\u001b[39m\u001b[39m1\u001b[39m)\n",
      "File \u001b[1;32mc:\\Users\\chris\\.virtualenvs\\Twitter-sentiment-Fabian-Marie-Christopher-d6mUFvBK\\lib\\site-packages\\transformers\\tokenization_utils_base.py:240\u001b[0m, in \u001b[0;36mBatchEncoding.__getitem__\u001b[1;34m(self, item)\u001b[0m\n\u001b[0;32m    <a href='file:///c%3A/Users/chris/.virtualenvs/Twitter-sentiment-Fabian-Marie-Christopher-d6mUFvBK/lib/site-packages/transformers/tokenization_utils_base.py?line=237'>238</a>\u001b[0m     \u001b[39mreturn\u001b[39;00m \u001b[39mself\u001b[39m\u001b[39m.\u001b[39m_encodings[item]\n\u001b[0;32m    <a href='file:///c%3A/Users/chris/.virtualenvs/Twitter-sentiment-Fabian-Marie-Christopher-d6mUFvBK/lib/site-packages/transformers/tokenization_utils_base.py?line=238'>239</a>\u001b[0m \u001b[39melse\u001b[39;00m:\n\u001b[1;32m--> <a href='file:///c%3A/Users/chris/.virtualenvs/Twitter-sentiment-Fabian-Marie-Christopher-d6mUFvBK/lib/site-packages/transformers/tokenization_utils_base.py?line=239'>240</a>\u001b[0m     \u001b[39mraise\u001b[39;00m \u001b[39mKeyError\u001b[39;00m(\n\u001b[0;32m    <a href='file:///c%3A/Users/chris/.virtualenvs/Twitter-sentiment-Fabian-Marie-Christopher-d6mUFvBK/lib/site-packages/transformers/tokenization_utils_base.py?line=240'>241</a>\u001b[0m         \u001b[39m\"\u001b[39m\u001b[39mIndexing with integers (to access backend Encoding for a given batch index) \u001b[39m\u001b[39m\"\u001b[39m\n\u001b[0;32m    <a href='file:///c%3A/Users/chris/.virtualenvs/Twitter-sentiment-Fabian-Marie-Christopher-d6mUFvBK/lib/site-packages/transformers/tokenization_utils_base.py?line=241'>242</a>\u001b[0m         \u001b[39m\"\u001b[39m\u001b[39mis not available when using Python based tokenizers\u001b[39m\u001b[39m\"\u001b[39m\n\u001b[0;32m    <a href='file:///c%3A/Users/chris/.virtualenvs/Twitter-sentiment-Fabian-Marie-Christopher-d6mUFvBK/lib/site-packages/transformers/tokenization_utils_base.py?line=242'>243</a>\u001b[0m     )\n",
      "\u001b[1;31mKeyError\u001b[0m: 'Indexing with integers (to access backend Encoding for a given batch index) is not available when using Python based tokenizers'"
     ]
    }
   ],
   "source": [
    "trainer.fit(test, y_train,\n",
    "            num_epoch=20, \n",
    "            batch_size=128,\n",
    "            verbose=1)"
   ]
  }
 ],
 "metadata": {
  "interpreter": {
   "hash": "d65a5ea5cfe58a7f522bccad2d9bff96f7e90ee8b4869f27a196cb3398804c65"
  },
  "kernelspec": {
   "display_name": "Python 3.9.7 ('Twitter-sentiment-Fabian-Marie-Christopher-d6mUFvBK')",
   "language": "python",
   "name": "python3"
  },
  "language_info": {
   "codemirror_mode": {
    "name": "ipython",
    "version": 3
   },
   "file_extension": ".py",
   "mimetype": "text/x-python",
   "name": "python",
   "nbconvert_exporter": "python",
   "pygments_lexer": "ipython3",
   "version": "3.9.7"
  },
  "orig_nbformat": 4
 },
 "nbformat": 4,
 "nbformat_minor": 2
}

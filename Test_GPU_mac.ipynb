{
 "cells": [
  {
   "cell_type": "code",
   "execution_count": 1,
   "metadata": {},
   "outputs": [],
   "source": [
    "import torch\n",
    "import pandas as pd\n",
    "\n",
    "# sample data\n",
    "data = pd.read_csv(\"Data/test_data.csv\")\n",
    "id = data[\"id\"]"
   ]
  },
  {
   "cell_type": "code",
   "execution_count": 4,
   "metadata": {},
   "outputs": [
    {
     "name": "stdout",
     "output_type": "stream",
     "text": [
      "Data is loaded on: cpu\n"
     ]
    }
   ],
   "source": [
    "# See where the data is loaded\n",
    "t_id = torch.tensor(id)\n",
    "print(f\"Data is loaded on: {t_id.device}\")"
   ]
  },
  {
   "cell_type": "code",
   "execution_count": 9,
   "metadata": {},
   "outputs": [
    {
     "ename": "RuntimeError",
     "evalue": "Expected one of cpu, cuda, xpu, mkldnn, opengl, opencl, ideep, hip, ve, ort, mlc, xla, lazy, vulkan, meta, hpu device type at start of device string: mps",
     "output_type": "error",
     "traceback": [
      "\u001b[1;31m---------------------------------------------------------------------------\u001b[0m",
      "\u001b[1;31mRuntimeError\u001b[0m                              Traceback (most recent call last)",
      "\u001b[1;32mc:\\Users\\chris\\Documents\\GitHub\\Twitter-sentiment-Fabian-Marie-Christopher\\Test_GPU_mac.ipynb Cell 3'\u001b[0m in \u001b[0;36m<cell line: 2>\u001b[1;34m()\u001b[0m\n\u001b[0;32m      <a href='vscode-notebook-cell:/c%3A/Users/chris/Documents/GitHub/Twitter-sentiment-Fabian-Marie-Christopher/Test_GPU_mac.ipynb#ch0000002?line=0'>1</a>\u001b[0m \u001b[39m# Move data to mps (\"gpu\" on m1)\u001b[39;00m\n\u001b[1;32m----> <a href='vscode-notebook-cell:/c%3A/Users/chris/Documents/GitHub/Twitter-sentiment-Fabian-Marie-Christopher/Test_GPU_mac.ipynb#ch0000002?line=1'>2</a>\u001b[0m t_id \u001b[39m=\u001b[39m t_id\u001b[39m.\u001b[39;49mto(\u001b[39m\"\u001b[39;49m\u001b[39mmps\u001b[39;49m\u001b[39m\"\u001b[39;49m)\n\u001b[0;32m      <a href='vscode-notebook-cell:/c%3A/Users/chris/Documents/GitHub/Twitter-sentiment-Fabian-Marie-Christopher/Test_GPU_mac.ipynb#ch0000002?line=2'>3</a>\u001b[0m \u001b[39mprint\u001b[39m(\u001b[39mf\u001b[39m\u001b[39m\"\u001b[39m\u001b[39mData is loaded on \u001b[39m\u001b[39m{\u001b[39;00mt_id\u001b[39m.\u001b[39mdevice\u001b[39m}\u001b[39;00m\u001b[39m\"\u001b[39m)\n",
      "\u001b[1;31mRuntimeError\u001b[0m: Expected one of cpu, cuda, xpu, mkldnn, opengl, opencl, ideep, hip, ve, ort, mlc, xla, lazy, vulkan, meta, hpu device type at start of device string: mps"
     ]
    }
   ],
   "source": [
    "# Move data to mps (\"gpu\" on m1)\n",
    "t_id = t_id.to(\"mps\")\n",
    "print(f\"Data is loaded on {t_id.device}\")"
   ]
  },
  {
   "cell_type": "code",
   "execution_count": 11,
   "metadata": {},
   "outputs": [
    {
     "name": "stdout",
     "output_type": "stream",
     "text": [
      "Data is loaded on cuda:0\n"
     ]
    }
   ],
   "source": [
    "# Move data to gpu (CUDA Nvidia)\n",
    "t_id = t_id.to(\"cuda\")\n",
    "print(f\"Data is loaded on {t_id.device}\")"
   ]
  }
 ],
 "metadata": {
  "interpreter": {
   "hash": "d65a5ea5cfe58a7f522bccad2d9bff96f7e90ee8b4869f27a196cb3398804c65"
  },
  "kernelspec": {
   "display_name": "Python 3.9.7 ('Twitter-sentiment-Fabian-Marie-Christopher-d6mUFvBK')",
   "language": "python",
   "name": "python3"
  },
  "language_info": {
   "codemirror_mode": {
    "name": "ipython",
    "version": 3
   },
   "file_extension": ".py",
   "mimetype": "text/x-python",
   "name": "python",
   "nbconvert_exporter": "python",
   "pygments_lexer": "ipython3",
   "version": "3.9.7"
  },
  "orig_nbformat": 4
 },
 "nbformat": 4,
 "nbformat_minor": 2
}
